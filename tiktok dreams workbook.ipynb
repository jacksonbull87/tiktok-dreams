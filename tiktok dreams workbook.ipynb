{
 "cells": [
  {
   "cell_type": "markdown",
   "metadata": {},
   "source": [
    "## Import Libraries"
   ]
  },
  {
   "cell_type": "code",
   "execution_count": 93,
   "metadata": {},
   "outputs": [],
   "source": [
    "import pandas as pd\n",
    "import re\n",
    "from cm_api import *\n",
    "from cm_config import token\n",
    "import seaborn as sns\n",
    "import matplotlib.pyplot as plt"
   ]
  },
  {
   "cell_type": "code",
   "execution_count": 92,
   "metadata": {},
   "outputs": [
    {
     "name": "stdout",
     "output_type": "stream",
     "text": [
      "Requirement already satisfied: matplotlib in c:\\users\\jacks\\anaconda3\\envs\\dreams\\lib\\site-packages (3.3.2)\n",
      "Requirement already satisfied: numpy>=1.15 in c:\\users\\jacks\\anaconda3\\envs\\dreams\\lib\\site-packages (from matplotlib) (1.19.2)\n",
      "Requirement already satisfied: pyparsing!=2.0.4,!=2.1.2,!=2.1.6,>=2.0.3 in c:\\users\\jacks\\anaconda3\\envs\\dreams\\lib\\site-packages (from matplotlib) (2.4.7)\n",
      "Requirement already satisfied: kiwisolver>=1.0.1 in c:\\users\\jacks\\anaconda3\\envs\\dreams\\lib\\site-packages (from matplotlib) (1.2.0)\n",
      "Requirement already satisfied: python-dateutil>=2.1 in c:\\users\\jacks\\anaconda3\\envs\\dreams\\lib\\site-packages (from matplotlib) (2.8.1)\n",
      "Note: you may need to restart the kernel to use updated packages.\n",
      "Requirement already satisfied: certifi>=2020.06.20 in c:\\users\\jacks\\anaconda3\\envs\\dreams\\lib\\site-packages (from matplotlib) (2020.6.20)\n",
      "Requirement already satisfied: pillow>=6.2.0 in c:\\users\\jacks\\anaconda3\\envs\\dreams\\lib\\site-packages (from matplotlib) (7.2.0)\n",
      "Requirement already satisfied: cycler>=0.10 in c:\\users\\jacks\\anaconda3\\envs\\dreams\\lib\\site-packages (from matplotlib) (0.10.0)\n",
      "Requirement already satisfied: six>=1.5 in c:\\users\\jacks\\anaconda3\\envs\\dreams\\lib\\site-packages (from python-dateutil>=2.1->matplotlib) (1.15.0)\n"
     ]
    }
   ],
   "source": [
    "pip install matplotlib"
   ]
  },
  {
   "cell_type": "code",
   "execution_count": 63,
   "metadata": {},
   "outputs": [],
   "source": [
    "#get refresh token\n",
    "rt = token['refresh_token']"
   ]
  },
  {
   "cell_type": "code",
   "execution_count": 64,
   "metadata": {},
   "outputs": [],
   "source": [
    "#get api token\n",
    "api_token = get_api_token(rt)"
   ]
  },
  {
   "cell_type": "markdown",
   "metadata": {},
   "source": [
    "## Find Chartmetric ID for Dreams by Fleetwood Mac\n",
    "Since we know that the 2004 Remastered version was the one used in the tiktok video, we need to\n",
    "get the ID associated with that specific track"
   ]
  },
  {
   "cell_type": "code",
   "execution_count": 4,
   "metadata": {},
   "outputs": [
    {
     "name": "stdout",
     "output_type": "stream",
     "text": [
      "isrc #:  USWB11301111\n",
      "track name :  Dreams - 2004 Remastered Edition\n",
      "chartmetric ID :  16026997\n",
      "artist name :  Fleetwood Mac\n",
      "album name :  Rumours (Super Deluxe)\n",
      "release date :  1977-02-04T00:00:00.000Z\n",
      "\n",
      "\n",
      "isrc #:  USWB19900178\n",
      "track name :  Dreams\n",
      "chartmetric ID :  16032762\n",
      "artist name :  Fleetwood Mac\n",
      "album name :  Greatest Hits\n",
      "release date :  1988-11-21T00:00:00.000Z\n",
      "\n",
      "\n",
      "isrc #:  USWB10400046\n",
      "track name :  Dreams\n",
      "chartmetric ID :  16016833\n",
      "artist name :  Fleetwood Mac\n",
      "album name :  Rumours\n",
      "release date :  1977-02-04T00:00:00.000Z\n",
      "\n",
      "\n"
     ]
    }
   ],
   "source": [
    "#use search function form cm_api to find chartmetric id for Dreams\n",
    "dreams = search(api_token, 'Dreams', 'Fleetwood Mac', limit=100)"
   ]
  },
  {
   "cell_type": "code",
   "execution_count": 5,
   "metadata": {},
   "outputs": [],
   "source": [
    "#save dataframe as csv file\n",
    "dreams.to_csv('data/dreams_info.csv', index_label='index')"
   ]
  },
  {
   "cell_type": "code",
   "execution_count": null,
   "metadata": {},
   "outputs": [],
   "source": [
    "dreams"
   ]
  },
  {
   "cell_type": "code",
   "execution_count": 6,
   "metadata": {},
   "outputs": [],
   "source": [
    "#let's grab the chartmetric id associated with the 2004 remastered version and save as a variable\n",
    "dreams2004rem_cmid = dreams.loc[dreams['track'] == 'Dreams - 2004 Remastered Edition']['chartmetric id'][0]\n",
    "dreamsgreatesthits_cmid = dreams.loc[dreams['track'] == 'Dreams']['chartmetric id'][1]\n",
    "dreamsrumours_cmid = dreams.loc[dreams['track'] == 'Dreams']['chartmetric id'][2]"
   ]
  },
  {
   "cell_type": "markdown",
   "metadata": {},
   "source": [
    "## Collect Historical Data On Spotify Playlist Positions"
   ]
  },
  {
   "cell_type": "markdown",
   "metadata": {},
   "source": [
    "Playlist activity is a good indicator of how popular a particular track is. Features such as number of followers, official or not, and track position within a particular playlist can tell you alot about how large its reach is. The description of a playlist can also suggest the mood/vibe the author had in mind when deciding whether or not they should at the track"
   ]
  },
  {
   "cell_type": "markdown",
   "metadata": {},
   "source": [
    "### Dreams (2004 Remaster)"
   ]
  },
  {
   "cell_type": "code",
   "execution_count": 20,
   "metadata": {},
   "outputs": [],
   "source": [
    "data = get_track_playlist(api_token, dreams2004rem_cmid, 'spotify', 'current', '2020-09-01', 100)"
   ]
  },
  {
   "cell_type": "code",
   "execution_count": 61,
   "metadata": {},
   "outputs": [
    {
     "data": {
      "text/plain": [
       "dict_keys(['playlist_id', 'track_id', 'position', 'added_at', 'period', 'id', 'name', 'description', 'image_url', 'sys_last_updated', 'last_updated', 'personalized', 'code2', 'owner_name', 'owner_id', 'user_id', 'official', 'tags', 'followers', 'num_track', 'fdiff_week', 'fdiff_month', 'catalog', 'active_ratio'])"
      ]
     },
     "execution_count": 61,
     "metadata": {},
     "output_type": "execute_result"
    }
   ],
   "source": [
    "#take a look at availavle data features\n",
    "data[1]['playlist'].keys()"
   ]
  },
  {
   "cell_type": "code",
   "execution_count": 79,
   "metadata": {},
   "outputs": [
    {
     "data": {
      "text/plain": [
       "{'playlist_id': '3IBrsav3Sh8AImtaGoaP07',\n",
       " 'track_id': 66204,\n",
       " 'position': 20,\n",
       " 'added_at': '2020-10-06T00:00:00.000Z',\n",
       " 'period': 1,\n",
       " 'id': 1880171,\n",
       " 'name': 'Good Mornings - Happily Positive Music to Start The Day',\n",
       " 'description': 'Good morning music to wake up happy and start your day right! We’ve put together the perfect playlist of upbeat pop classics and positive songs to carry your stress away and start with a smile - <a href=\"https://rb.gy/hbsqjf\">Submit Your Music</a>',\n",
       " 'image_url': 'https://i.scdn.co/image/ab67706c0000bebb721f9cf1078e59cbf457989e',\n",
       " 'sys_last_updated': '2020-10-07T00:32:05.919Z',\n",
       " 'last_updated': '2020-10-07T00:32:05.848Z',\n",
       " 'personalized': False,\n",
       " 'code2': None,\n",
       " 'owner_name': 'Chilled Mumoro',\n",
       " 'owner_id': 269820,\n",
       " 'user_id': '2k995mbzd5f9ui49qh23xp2tr',\n",
       " 'official': False,\n",
       " 'tags': [{'id': 188, 'name': 'pop'}, {'id': 9544, 'name': 'folk-pop'}],\n",
       " 'followers': 25569,\n",
       " 'num_track': '688',\n",
       " 'fdiff_week': 920,\n",
       " 'fdiff_month': 4780,\n",
       " 'catalog': 'catalogue ',\n",
       " 'active_ratio': 0.988372093023256}"
      ]
     },
     "execution_count": 79,
     "metadata": {},
     "output_type": "execute_result"
    }
   ],
   "source": [
    "data[5]['playlist']"
   ]
  },
  {
   "cell_type": "code",
   "execution_count": 122,
   "metadata": {},
   "outputs": [],
   "source": [
    "#parse metadata for Dreams 2004 Remaster playlist postions from 100 spotify playlists\n",
    "\n",
    "data_bucket = []\n",
    "for playlist in data:\n",
    "    playlist_tuple = (playlist['playlist']['playlist_id'],playlist['playlist']['name'], playlist['playlist']['position'], \n",
    "                      playlist['playlist']['added_at'], playlist['playlist']['description'], \n",
    "                      playlist['playlist']['official'],playlist['playlist']['followers'])\n",
    "    data_bucket.append(playlist_tuple)\n",
    "    \n",
    "playlists_dreamsrem = pd.DataFrame(data_bucket, columns=['playlist id', 'playlist name', 'positon', 'add date', 'description', 'official', 'followers'])\n",
    "\n",
    "playlists_dreamsrem.to_csv('data/dreamsremas_spotplayl.csv', index='playlist id')\n"
   ]
  },
  {
   "cell_type": "code",
   "execution_count": null,
   "metadata": {},
   "outputs": [],
   "source": [
    "playlists_dreamsrem['add date'] = pd.to_datetime(playlists_dreamsrem['add date'])\n"
   ]
  },
  {
   "cell_type": "code",
   "execution_count": 139,
   "metadata": {},
   "outputs": [
    {
     "data": {
      "image/png": "[encoded data removed]",
      "text/plain": [
       "<Figure size 1332x756 with 1 Axes>"
      ]
     },
     "metadata": {
      "needs_background": "light"
     },
     "output_type": "display_data"
    }
   ],
   "source": [
    "#Let's visualize how many times the track was added to playlists\n",
    "plot=sns.countplot(x=playlists_dreamsrem['add date'])\n",
    "plot.set_xticklabels(plot.get_xticklabels(), rotation=90);\n",
    "plt.title(\"Spotify Playlist Adds - Dreams (2004 Remaster)\")\n",
    "plt.ylabel(\"# of Adds\")\n",
    "fig = plt.gcf()\n",
    "fig.set_size_inches(18.5, 10.5)\n",
    "plt.savefig('images/spotify_playlistadds_dreamsrmstr.png')"
   ]
  },
  {
   "cell_type": "markdown",
   "metadata": {},
   "source": [
    "### Dreams (Greatest Hits Album)"
   ]
  },
  {
   "cell_type": "code",
   "execution_count": 65,
   "metadata": {},
   "outputs": [],
   "source": [
    "dreams_greatesthits = get_track_playlist(api_token, dreamsgreatesthits_cmid, 'spotify', 'current', '2020-09-01', 100)"
   ]
  },
  {
   "cell_type": "code",
   "execution_count": 67,
   "metadata": {},
   "outputs": [
    {
     "data": {
      "text/html": [
       "<div>\n",
       "<style scoped>\n",
       "    .dataframe tbody tr th:only-of-type {\n",
       "        vertical-align: middle;\n",
       "    }\n",
       "\n",
       "    .dataframe tbody tr th {\n",
       "        vertical-align: top;\n",
       "    }\n",
       "\n",
       "    .dataframe thead th {\n",
       "        text-align: right;\n",
       "    }\n",
       "</style>\n",
       "<table border=\"1\" class=\"dataframe\">\n",
       "  <thead>\n",
       "    <tr style=\"text-align: right;\">\n",
       "      <th></th>\n",
       "      <th>playlist id</th>\n",
       "      <th>playlist name</th>\n",
       "      <th>positon</th>\n",
       "      <th>add date</th>\n",
       "      <th>description</th>\n",
       "      <th>official</th>\n",
       "      <th>followers</th>\n",
       "    </tr>\n",
       "  </thead>\n",
       "  <tbody>\n",
       "    <tr>\n",
       "      <th>0</th>\n",
       "      <td>61bnhKFoLANPMxlxgQ3hAM</td>\n",
       "      <td>8.1</td>\n",
       "      <td>121</td>\n",
       "      <td>2020-10-07T00:00:00.000Z</td>\n",
       "      <td></td>\n",
       "      <td>False</td>\n",
       "      <td>25</td>\n",
       "    </tr>\n",
       "    <tr>\n",
       "      <th>1</th>\n",
       "      <td>1srEFACcg6Fs0IeDnCkayK</td>\n",
       "      <td>Brian FM</td>\n",
       "      <td>1624</td>\n",
       "      <td>2020-10-07T00:00:00.000Z</td>\n",
       "      <td>Adult Hits</td>\n",
       "      <td>False</td>\n",
       "      <td>1440</td>\n",
       "    </tr>\n",
       "    <tr>\n",
       "      <th>2</th>\n",
       "      <td>6ZpWruVslJK4S2WTZpTYiu</td>\n",
       "      <td>CARTE BLANCHE CLASSICS - credible en plat, van...</td>\n",
       "      <td>1740</td>\n",
       "      <td>2020-10-07T00:00:00.000Z</td>\n",
       "      <td></td>\n",
       "      <td>False</td>\n",
       "      <td>26</td>\n",
       "    </tr>\n",
       "    <tr>\n",
       "      <th>3</th>\n",
       "      <td>2wDWKCwq63l4ggk3pdiLHc</td>\n",
       "      <td>MATHERFACKER</td>\n",
       "      <td>508</td>\n",
       "      <td>2020-10-07T00:00:00.000Z</td>\n",
       "      <td></td>\n",
       "      <td>False</td>\n",
       "      <td>33</td>\n",
       "    </tr>\n",
       "    <tr>\n",
       "      <th>4</th>\n",
       "      <td>5M3lqf1pE2fodXFThdKJu6</td>\n",
       "      <td>No More rnb</td>\n",
       "      <td>249</td>\n",
       "      <td>2020-10-06T00:00:00.000Z</td>\n",
       "      <td></td>\n",
       "      <td>False</td>\n",
       "      <td>4</td>\n",
       "    </tr>\n",
       "    <tr>\n",
       "      <th>...</th>\n",
       "      <td>...</td>\n",
       "      <td>...</td>\n",
       "      <td>...</td>\n",
       "      <td>...</td>\n",
       "      <td>...</td>\n",
       "      <td>...</td>\n",
       "      <td>...</td>\n",
       "    </tr>\n",
       "    <tr>\n",
       "      <th>95</th>\n",
       "      <td>0WA0gmevwPkbGioseFxsnE</td>\n",
       "      <td>FluffedMojo</td>\n",
       "      <td>798</td>\n",
       "      <td>2020-09-15T00:00:00.000Z</td>\n",
       "      <td>All of it.</td>\n",
       "      <td>False</td>\n",
       "      <td>4</td>\n",
       "    </tr>\n",
       "    <tr>\n",
       "      <th>96</th>\n",
       "      <td>6V1Nfi4cLEYdOrs1R7AzrM</td>\n",
       "      <td>Bruneaux's Favorite Songs of All-Time</td>\n",
       "      <td>997</td>\n",
       "      <td>2020-09-10T00:00:00.000Z</td>\n",
       "      <td></td>\n",
       "      <td>False</td>\n",
       "      <td>51</td>\n",
       "    </tr>\n",
       "    <tr>\n",
       "      <th>97</th>\n",
       "      <td>74avQSetPDwWZptTsTj2eP</td>\n",
       "      <td>Get Motivated Playlist</td>\n",
       "      <td>1845</td>\n",
       "      <td>2020-09-09T00:00:00.000Z</td>\n",
       "      <td>&lt;a href=\"http://www.strayer.edu/?mcv=DG82\"&gt; Cl...</td>\n",
       "      <td>False</td>\n",
       "      <td>353</td>\n",
       "    </tr>\n",
       "    <tr>\n",
       "      <th>98</th>\n",
       "      <td>0Xi527A8PH30qJzvc2XWcX</td>\n",
       "      <td>70's, 80's, 90's Super Hits</td>\n",
       "      <td>474</td>\n",
       "      <td>2020-09-07T00:00:00.000Z</td>\n",
       "      <td></td>\n",
       "      <td>False</td>\n",
       "      <td>123</td>\n",
       "    </tr>\n",
       "    <tr>\n",
       "      <th>99</th>\n",
       "      <td>3BFlGH7ZYSJKukpG6jpC6l</td>\n",
       "      <td>Polar Bear Bar</td>\n",
       "      <td>200</td>\n",
       "      <td>2020-09-05T00:00:00.000Z</td>\n",
       "      <td></td>\n",
       "      <td>False</td>\n",
       "      <td>23</td>\n",
       "    </tr>\n",
       "  </tbody>\n",
       "</table>\n",
       "<p>100 rows × 7 columns</p>\n",
       "</div>"
      ],
      "text/plain": [
       "               playlist id                                      playlist name  \\\n",
       "0   61bnhKFoLANPMxlxgQ3hAM                                                8.1   \n",
       "1   1srEFACcg6Fs0IeDnCkayK                                          Brian FM    \n",
       "2   6ZpWruVslJK4S2WTZpTYiu  CARTE BLANCHE CLASSICS - credible en plat, van...   \n",
       "3   2wDWKCwq63l4ggk3pdiLHc                                       MATHERFACKER   \n",
       "4   5M3lqf1pE2fodXFThdKJu6                                        No More rnb   \n",
       "..                     ...                                                ...   \n",
       "95  0WA0gmevwPkbGioseFxsnE                                        FluffedMojo   \n",
       "96  6V1Nfi4cLEYdOrs1R7AzrM              Bruneaux's Favorite Songs of All-Time   \n",
       "97  74avQSetPDwWZptTsTj2eP                             Get Motivated Playlist   \n",
       "98  0Xi527A8PH30qJzvc2XWcX                        70's, 80's, 90's Super Hits   \n",
       "99  3BFlGH7ZYSJKukpG6jpC6l                                     Polar Bear Bar   \n",
       "\n",
       "    positon                  add date  \\\n",
       "0       121  2020-10-07T00:00:00.000Z   \n",
       "1      1624  2020-10-07T00:00:00.000Z   \n",
       "2      1740  2020-10-07T00:00:00.000Z   \n",
       "3       508  2020-10-07T00:00:00.000Z   \n",
       "4       249  2020-10-06T00:00:00.000Z   \n",
       "..      ...                       ...   \n",
       "95      798  2020-09-15T00:00:00.000Z   \n",
       "96      997  2020-09-10T00:00:00.000Z   \n",
       "97     1845  2020-09-09T00:00:00.000Z   \n",
       "98      474  2020-09-07T00:00:00.000Z   \n",
       "99      200  2020-09-05T00:00:00.000Z   \n",
       "\n",
       "                                          description  official  followers  \n",
       "0                                                         False         25  \n",
       "1                                          Adult Hits     False       1440  \n",
       "2                                                         False         26  \n",
       "3                                                         False         33  \n",
       "4                                                         False          4  \n",
       "..                                                ...       ...        ...  \n",
       "95                                         All of it.     False          4  \n",
       "96                                                        False         51  \n",
       "97  <a href=\"http://www.strayer.edu/?mcv=DG82\"> Cl...     False        353  \n",
       "98                                                        False        123  \n",
       "99                                                        False         23  \n",
       "\n",
       "[100 rows x 7 columns]"
      ]
     },
     "execution_count": 67,
     "metadata": {},
     "output_type": "execute_result"
    }
   ],
   "source": [
    "#parse metadata for Dreams (Greatest Hits album version) playlist postions from 100 spotify playlists\n",
    "\n",
    "data_bucket = []\n",
    "for playlist in dreams_greatesthits:\n",
    "    playlist_tuple = (playlist['playlist']['playlist_id'],playlist['playlist']['name'], playlist['playlist']['position'], \n",
    "                      playlist['playlist']['added_at'], playlist['playlist']['description'], \n",
    "                      playlist['playlist']['official'],playlist['playlist']['followers'])\n",
    "    data_bucket.append(playlist_tuple)\n",
    "    \n",
    "playlists_dreamsgreatesthits = pd.DataFrame(data_bucket, columns=['playlist id', 'playlist name', 'positon', 'add date', 'description', 'official', 'followers'])\n",
    "\n",
    "playlists_dreamsgreatesthits.to_csv('data/dreamsgreatesthits_spotplayl.csv', index='playlist id')\n",
    "playlists_dreamsgreatesthits"
   ]
  },
  {
   "cell_type": "markdown",
   "metadata": {},
   "source": [
    "### Dreams (Rumours Album)"
   ]
  },
  {
   "cell_type": "code",
   "execution_count": 68,
   "metadata": {},
   "outputs": [],
   "source": [
    "dreams_rumours = get_track_playlist(api_token, dreamsrumours_cmid, 'spotify', 'current', '2020-09-01', 100)"
   ]
  },
  {
   "cell_type": "code",
   "execution_count": 69,
   "metadata": {},
   "outputs": [
    {
     "data": {
      "text/html": [
       "<div>\n",
       "<style scoped>\n",
       "    .dataframe tbody tr th:only-of-type {\n",
       "        vertical-align: middle;\n",
       "    }\n",
       "\n",
       "    .dataframe tbody tr th {\n",
       "        vertical-align: top;\n",
       "    }\n",
       "\n",
       "    .dataframe thead th {\n",
       "        text-align: right;\n",
       "    }\n",
       "</style>\n",
       "<table border=\"1\" class=\"dataframe\">\n",
       "  <thead>\n",
       "    <tr style=\"text-align: right;\">\n",
       "      <th></th>\n",
       "      <th>playlist id</th>\n",
       "      <th>playlist name</th>\n",
       "      <th>positon</th>\n",
       "      <th>add date</th>\n",
       "      <th>description</th>\n",
       "      <th>official</th>\n",
       "      <th>followers</th>\n",
       "    </tr>\n",
       "  </thead>\n",
       "  <tbody>\n",
       "  </tbody>\n",
       "</table>\n",
       "</div>"
      ],
      "text/plain": [
       "Empty DataFrame\n",
       "Columns: [playlist id, playlist name, positon, add date, description, official, followers]\n",
       "Index: []"
      ]
     },
     "execution_count": 69,
     "metadata": {},
     "output_type": "execute_result"
    }
   ],
   "source": [
    "#parse metadata for Dreams (Greatest Hits album version) playlist postions from 100 spotify playlists\n",
    "\n",
    "data_bucket = []\n",
    "for playlist in dreams_rumours:\n",
    "    playlist_tuple = (playlist['playlist']['playlist_id'],playlist['playlist']['name'], playlist['playlist']['position'], \n",
    "                      playlist['playlist']['added_at'], playlist['playlist']['description'], \n",
    "                      playlist['playlist']['official'],playlist['playlist']['followers'])\n",
    "    data_bucket.append(playlist_tuple)\n",
    "    \n",
    "playlists_rumours = pd.DataFrame(data_bucket, columns=['playlist id', 'playlist name', 'positon', 'add date', 'description', 'official', 'followers'])\n",
    "\n",
    "playlists_rumours.to_csv('data/rumours_spotplayl.csv', index='playlist id')\n",
    "playlists_rumours"
   ]
  },
  {
   "cell_type": "markdown",
   "metadata": {},
   "source": [
    "Looks like there's no record of any playlists adding the Rumours version of Dreams, so let's not worry about that."
   ]
  },
  {
   "cell_type": "code",
   "execution_count": 123,
   "metadata": {
    "scrolled": true
   },
   "outputs": [],
   "source": []
  },
  {
   "cell_type": "code",
   "execution_count": 138,
   "metadata": {},
   "outputs": [
    {
     "data": {
      "image/png": "[encoded data removed]",
      "text/plain": [
       "<Figure size 1332x756 with 1 Axes>"
      ]
     },
     "metadata": {
      "needs_background": "light"
     },
     "output_type": "display_data"
    }
   ],
   "source": []
  },
  {
   "cell_type": "code",
   "execution_count": null,
   "metadata": {},
   "outputs": [],
   "source": []
  }
 ],
 "metadata": {
  "kernelspec": {
   "display_name": "Python 3",
   "language": "python",
   "name": "python3"
  },
  "language_info": {
   "codemirror_mode": {
    "name": "ipython",
    "version": 3
   },
   "file_extension": ".py",
   "mimetype": "text/x-python",
   "name": "python",
   "nbconvert_exporter": "python",
   "pygments_lexer": "ipython3",
   "version": "3.8.5"
  },
  "toc": {
   "base_numbering": 1,
   "nav_menu": {},
   "number_sections": true,
   "sideBar": true,
   "skip_h1_title": false,
   "title_cell": "Table of Contents",
   "title_sidebar": "Contents",
   "toc_cell": false,
   "toc_position": {
    "height": "calc(100% - 180px)",
    "left": "10px",
    "top": "150px",
    "width": "362px"
   },
   "toc_section_display": true,
   "toc_window_display": true
  }
 },
 "nbformat": 4,
 "nbformat_minor": 4
}
