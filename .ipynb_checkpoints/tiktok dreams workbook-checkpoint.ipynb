{
 "cells": [
  {
   "cell_type": "markdown",
   "metadata": {},
   "source": [
    "## Import Libraries"
   ]
  },
  {
   "cell_type": "code",
   "execution_count": 14,
   "metadata": {},
   "outputs": [],
   "source": [
    "import pandas as pd\n",
    "import re\n",
    "from cm_api import *\n",
    "from cm_config import token\n"
   ]
  },
  {
   "cell_type": "code",
   "execution_count": 15,
   "metadata": {},
   "outputs": [],
   "source": [
    "#get refresh token\n",
    "rt = token['refresh_token']"
   ]
  },
  {
   "cell_type": "code",
   "execution_count": 16,
   "metadata": {},
   "outputs": [],
   "source": [
    "#get api token\n",
    "api_token = get_api_token(rt)"
   ]
  },
  {
   "cell_type": "code",
   "execution_count": 18,
   "metadata": {},
   "outputs": [
    {
     "name": "stdout",
     "output_type": "stream",
     "text": [
      "isrc #:  USWB11301111\n",
      "track name :  Dreams - 2004 Remastered Edition\n",
      "chartmetric ID :  16026997\n",
      "artist name :  Fleetwood Mac\n",
      "album name :  Rumours (Super Deluxe)\n",
      "release date :  1977-02-04T00:00:00.000Z\n",
      "\n",
      "\n",
      "isrc #:  USWB19900178\n",
      "track name :  Dreams\n",
      "chartmetric ID :  16032762\n",
      "artist name :  Fleetwood Mac\n",
      "album name :  Greatest Hits\n",
      "release date :  1988-11-21T00:00:00.000Z\n",
      "\n",
      "\n",
      "isrc #:  USWB10400046\n",
      "track name :  Dreams\n",
      "chartmetric ID :  16016833\n",
      "artist name :  Fleetwood Mac\n",
      "album name :  Rumours\n",
      "release date :  1977-02-04T00:00:00.000Z\n",
      "\n",
      "\n"
     ]
    }
   ],
   "source": [
    "#use search function form cm_api to find chartmetric id for Dreams\n",
    "dreams = search(api_token, 'Dreams', 'Fleetwood Mac', limit=100)"
   ]
  },
  {
   "cell_type": "code",
   "execution_count": 21,
   "metadata": {},
   "outputs": [],
   "source": [
    "#save dataframe as csv file\n",
    "dreams.to_csv('data/dreams_info.csv', index_label='index')"
   ]
  },
  {
   "cell_type": "code",
   "execution_count": 19,
   "metadata": {},
   "outputs": [
    {
     "data": {
      "text/plain": [
       "16026997"
      ]
     },
     "execution_count": 19,
     "metadata": {},
     "output_type": "execute_result"
    }
   ],
   "source": [
    "dreams.loc[dreams['track'] == 'Dreams - 2004 Remastered Edition']['chartmetric id'][0]"
   ]
  },
  {
   "cell_type": "code",
   "execution_count": null,
   "metadata": {},
   "outputs": [],
   "source": []
  }
 ],
 "metadata": {
  "kernelspec": {
   "display_name": "Python 3",
   "language": "python",
   "name": "python3"
  },
  "language_info": {
   "codemirror_mode": {
    "name": "ipython",
    "version": 3
   },
   "file_extension": ".py",
   "mimetype": "text/x-python",
   "name": "python",
   "nbconvert_exporter": "python",
   "pygments_lexer": "ipython3",
   "version": "3.7.4"
  },
  "toc": {
   "base_numbering": 1,
   "nav_menu": {},
   "number_sections": true,
   "sideBar": true,
   "skip_h1_title": false,
   "title_cell": "Table of Contents",
   "title_sidebar": "Contents",
   "toc_cell": false,
   "toc_position": {
    "height": "calc(100% - 180px)",
    "left": "10px",
    "top": "150px",
    "width": "362px"
   },
   "toc_section_display": true,
   "toc_window_display": true
  }
 },
 "nbformat": 4,
 "nbformat_minor": 4
}
