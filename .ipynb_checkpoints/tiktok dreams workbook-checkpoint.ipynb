{
 "cells": [
  {
   "cell_type": "markdown",
   "metadata": {},
   "source": [
    "## Import Libraries"
   ]
  },
  {
   "cell_type": "code",
   "execution_count": 1,
   "metadata": {},
   "outputs": [],
   "source": [
    "import pandas as pd\n",
    "import re\n",
    "from cm_api import *\n",
    "from cm_config import token\n",
    "import seaborn as sns\n",
    "import matplotlib.pyplot as plt\n",
    "import datetime as dt\n",
    "import numpy as np\n",
    "from decimal import *\n"
   ]
  },
  {
   "cell_type": "code",
   "execution_count": 81,
   "metadata": {},
   "outputs": [],
   "source": [
    "#get refresh token\n",
    "rt = token['refresh_token']"
   ]
  },
  {
   "cell_type": "code",
   "execution_count": 82,
   "metadata": {},
   "outputs": [],
   "source": [
    "#get api token\n",
    "api_token = get_api_token(rt)"
   ]
  },
  {
   "cell_type": "markdown",
   "metadata": {},
   "source": [
    "## Find Chartmetric ID for Dreams by Fleetwood Mac\n",
    "Since we know that the 2004 Remastered version was the one used in the tiktok video, we need to\n",
    "get the ID associated with that specific track"
   ]
  },
  {
   "cell_type": "code",
   "execution_count": 83,
   "metadata": {},
   "outputs": [
    {
     "name": "stdout",
     "output_type": "stream",
     "text": [
      "isrc #:  USWB11301111\n",
      "track name :  Dreams - 2004 Remastered Edition\n",
      "chartmetric ID :  16026997\n",
      "artist name :  Fleetwood Mac\n",
      "album name :  Rumours (Super Deluxe)\n",
      "release date :  1977-02-04T00:00:00.000Z\n",
      "\n",
      "\n",
      "isrc #:  USWB19900178\n",
      "track name :  Dreams\n",
      "chartmetric ID :  16032762\n",
      "artist name :  Fleetwood Mac\n",
      "album name :  Greatest Hits\n",
      "release date :  1988-11-21T00:00:00.000Z\n",
      "\n",
      "\n",
      "isrc #:  USWB10400046\n",
      "track name :  Dreams\n",
      "chartmetric ID :  16016833\n",
      "artist name :  Fleetwood Mac\n",
      "album name :  Rumours\n",
      "release date :  1977-02-04T00:00:00.000Z\n",
      "\n",
      "\n"
     ]
    }
   ],
   "source": [
    "#use search function form cm_api to find chartmetric id for Dreams\n",
    "dreams = search(api_token, 'Dreams', 'Fleetwood Mac', limit=100)"
   ]
  },
  {
   "cell_type": "code",
   "execution_count": 84,
   "metadata": {},
   "outputs": [],
   "source": [
    "#save dataframe as csv file\n",
    "dreams.to_csv('data/dreams_info.csv', index_label='index')"
   ]
  },
  {
   "cell_type": "code",
   "execution_count": 85,
   "metadata": {},
   "outputs": [
    {
     "data": {
      "text/html": [
       "<div>\n",
       "<style scoped>\n",
       "    .dataframe tbody tr th:only-of-type {\n",
       "        vertical-align: middle;\n",
       "    }\n",
       "\n",
       "    .dataframe tbody tr th {\n",
       "        vertical-align: top;\n",
       "    }\n",
       "\n",
       "    .dataframe thead th {\n",
       "        text-align: right;\n",
       "    }\n",
       "</style>\n",
       "<table border=\"1\" class=\"dataframe\">\n",
       "  <thead>\n",
       "    <tr style=\"text-align: right;\">\n",
       "      <th></th>\n",
       "      <th>isrc</th>\n",
       "      <th>track</th>\n",
       "      <th>chartmetric id</th>\n",
       "      <th>artist</th>\n",
       "      <th>album</th>\n",
       "      <th>release date</th>\n",
       "    </tr>\n",
       "  </thead>\n",
       "  <tbody>\n",
       "    <tr>\n",
       "      <th>0</th>\n",
       "      <td>USWB11301111</td>\n",
       "      <td>Dreams - 2004 Remastered Edition</td>\n",
       "      <td>16026997</td>\n",
       "      <td>Fleetwood Mac</td>\n",
       "      <td>Rumours (Super Deluxe)</td>\n",
       "      <td>1977-02-04T00:00:00.000Z</td>\n",
       "    </tr>\n",
       "    <tr>\n",
       "      <th>1</th>\n",
       "      <td>USWB19900178</td>\n",
       "      <td>Dreams</td>\n",
       "      <td>16032762</td>\n",
       "      <td>Fleetwood Mac</td>\n",
       "      <td>Greatest Hits</td>\n",
       "      <td>1988-11-21T00:00:00.000Z</td>\n",
       "    </tr>\n",
       "    <tr>\n",
       "      <th>2</th>\n",
       "      <td>USWB10400046</td>\n",
       "      <td>Dreams</td>\n",
       "      <td>16016833</td>\n",
       "      <td>Fleetwood Mac</td>\n",
       "      <td>Rumours</td>\n",
       "      <td>1977-02-04T00:00:00.000Z</td>\n",
       "    </tr>\n",
       "  </tbody>\n",
       "</table>\n",
       "</div>"
      ],
      "text/plain": [
       "           isrc                             track  chartmetric id  \\\n",
       "0  USWB11301111  Dreams - 2004 Remastered Edition        16026997   \n",
       "1  USWB19900178                            Dreams        16032762   \n",
       "2  USWB10400046                            Dreams        16016833   \n",
       "\n",
       "          artist                   album              release date  \n",
       "0  Fleetwood Mac  Rumours (Super Deluxe)  1977-02-04T00:00:00.000Z  \n",
       "1  Fleetwood Mac           Greatest Hits  1988-11-21T00:00:00.000Z  \n",
       "2  Fleetwood Mac                 Rumours  1977-02-04T00:00:00.000Z  "
      ]
     },
     "execution_count": 85,
     "metadata": {},
     "output_type": "execute_result"
    }
   ],
   "source": [
    "dreams"
   ]
  },
  {
   "cell_type": "code",
   "execution_count": 86,
   "metadata": {},
   "outputs": [],
   "source": [
    "#let's grab the chartmetric id associated with the 2004 remastered version and save as a variable\n",
    "dreams2004rem_cmid = dreams.loc[dreams['track'] == 'Dreams - 2004 Remastered Edition']['chartmetric id'][0]\n",
    "dreamsgreatesthits_cmid = dreams.loc[dreams['track'] == 'Dreams']['chartmetric id'][1]\n",
    "dreamsrumours_cmid = dreams.loc[dreams['track'] == 'Dreams']['chartmetric id'][2]"
   ]
  },
  {
   "cell_type": "markdown",
   "metadata": {},
   "source": [
    "## Collect Historical Data On Spotify Playlist Positions"
   ]
  },
  {
   "cell_type": "markdown",
   "metadata": {},
   "source": [
    "Playlist activity is a good indicator of how popular a particular track is. Features such as number of followers, official or not, and track position within a particular playlist can tell you alot about how large its reach is. The description of a playlist can also suggest the mood/vibe the author had in mind when deciding whether or not they should at the track"
   ]
  },
  {
   "cell_type": "markdown",
   "metadata": {},
   "source": [
    "### Dreams (2004 Remaster)"
   ]
  },
  {
   "cell_type": "code",
   "execution_count": 87,
   "metadata": {},
   "outputs": [],
   "source": [
    "data = get_track_playlist(api_token, dreams2004rem_cmid, 'spotify', 'current', '2020-09-01', 100)"
   ]
  },
  {
   "cell_type": "code",
   "execution_count": 61,
   "metadata": {},
   "outputs": [
    {
     "data": {
      "text/plain": [
       "dict_keys(['playlist_id', 'track_id', 'position', 'added_at', 'period', 'id', 'name', 'description', 'image_url', 'sys_last_updated', 'last_updated', 'personalized', 'code2', 'owner_name', 'owner_id', 'user_id', 'official', 'tags', 'followers', 'num_track', 'fdiff_week', 'fdiff_month', 'catalog', 'active_ratio'])"
      ]
     },
     "execution_count": 61,
     "metadata": {},
     "output_type": "execute_result"
    }
   ],
   "source": [
    "#take a look at availavle data features\n",
    "data[1]['playlist'].keys()"
   ]
  },
  {
   "cell_type": "code",
   "execution_count": 79,
   "metadata": {},
   "outputs": [
    {
     "data": {
      "text/plain": [
       "{'playlist_id': '3IBrsav3Sh8AImtaGoaP07',\n",
       " 'track_id': 66204,\n",
       " 'position': 20,\n",
       " 'added_at': '2020-10-06T00:00:00.000Z',\n",
       " 'period': 1,\n",
       " 'id': 1880171,\n",
       " 'name': 'Good Mornings - Happily Positive Music to Start The Day',\n",
       " 'description': 'Good morning music to wake up happy and start your day right! We’ve put together the perfect playlist of upbeat pop classics and positive songs to carry your stress away and start with a smile - <a href=\"https://rb.gy/hbsqjf\">Submit Your Music</a>',\n",
       " 'image_url': 'https://i.scdn.co/image/ab67706c0000bebb721f9cf1078e59cbf457989e',\n",
       " 'sys_last_updated': '2020-10-07T00:32:05.919Z',\n",
       " 'last_updated': '2020-10-07T00:32:05.848Z',\n",
       " 'personalized': False,\n",
       " 'code2': None,\n",
       " 'owner_name': 'Chilled Mumoro',\n",
       " 'owner_id': 269820,\n",
       " 'user_id': '2k995mbzd5f9ui49qh23xp2tr',\n",
       " 'official': False,\n",
       " 'tags': [{'id': 188, 'name': 'pop'}, {'id': 9544, 'name': 'folk-pop'}],\n",
       " 'followers': 25569,\n",
       " 'num_track': '688',\n",
       " 'fdiff_week': 920,\n",
       " 'fdiff_month': 4780,\n",
       " 'catalog': 'catalogue ',\n",
       " 'active_ratio': 0.988372093023256}"
      ]
     },
     "execution_count": 79,
     "metadata": {},
     "output_type": "execute_result"
    }
   ],
   "source": [
    "data[5]['playlist']"
   ]
  },
  {
   "cell_type": "code",
   "execution_count": 88,
   "metadata": {},
   "outputs": [],
   "source": [
    "#parse metadata for Dreams 2004 Remaster playlist postions from 100 spotify playlists\n",
    "\n",
    "data_bucket = []\n",
    "for playlist in data:\n",
    "    playlist_tuple = (playlist['playlist']['playlist_id'],playlist['playlist']['name'], playlist['playlist']['position'], \n",
    "                      playlist['playlist']['added_at'], playlist['playlist']['description'], \n",
    "                      playlist['playlist']['official'],playlist['playlist']['followers'])\n",
    "    data_bucket.append(playlist_tuple)\n",
    "    \n",
    "playlists_dreamsrem = pd.DataFrame(data_bucket, columns=['playlist id', 'playlist name', 'positon', 'add date', 'description', 'official', 'followers'])\n",
    "\n",
    "playlists_dreamsrem.to_csv('data/dreamsremas_spotplayl.csv', index='playlist id')\n"
   ]
  },
  {
   "cell_type": "markdown",
   "metadata": {},
   "source": [
    "#### Load DataFrame"
   ]
  },
  {
   "cell_type": "code",
   "execution_count": 89,
   "metadata": {},
   "outputs": [
    {
     "data": {
      "text/html": [
       "<div>\n",
       "<style scoped>\n",
       "    .dataframe tbody tr th:only-of-type {\n",
       "        vertical-align: middle;\n",
       "    }\n",
       "\n",
       "    .dataframe tbody tr th {\n",
       "        vertical-align: top;\n",
       "    }\n",
       "\n",
       "    .dataframe thead th {\n",
       "        text-align: right;\n",
       "    }\n",
       "</style>\n",
       "<table border=\"1\" class=\"dataframe\">\n",
       "  <thead>\n",
       "    <tr style=\"text-align: right;\">\n",
       "      <th></th>\n",
       "      <th>playlist id</th>\n",
       "      <th>playlist name</th>\n",
       "      <th>positon</th>\n",
       "      <th>add date</th>\n",
       "      <th>description</th>\n",
       "      <th>official</th>\n",
       "      <th>followers</th>\n",
       "    </tr>\n",
       "  </thead>\n",
       "  <tbody>\n",
       "    <tr>\n",
       "      <th>0</th>\n",
       "      <td>37i9dQZEVXbMH2jvi6jvjk</td>\n",
       "      <td>South Africa Top 50</td>\n",
       "      <td>45</td>\n",
       "      <td>2020-10-12T00:00:00.000Z</td>\n",
       "      <td>Your daily update of the most played tracks in...</td>\n",
       "      <td>True</td>\n",
       "      <td>18626</td>\n",
       "    </tr>\n",
       "    <tr>\n",
       "      <th>1</th>\n",
       "      <td>37i9dQZEVXbK4NvPi6Sxit</td>\n",
       "      <td>India Viral 50</td>\n",
       "      <td>50</td>\n",
       "      <td>2020-10-12T00:00:00.000Z</td>\n",
       "      <td>Your daily update of the most viral tracks in ...</td>\n",
       "      <td>True</td>\n",
       "      <td>12819</td>\n",
       "    </tr>\n",
       "    <tr>\n",
       "      <th>2</th>\n",
       "      <td>37i9dQZEVXbJiyhoAPEfMK</td>\n",
       "      <td>Switzerland Top 50</td>\n",
       "      <td>46</td>\n",
       "      <td>2020-10-12T00:00:00.000Z</td>\n",
       "      <td>Your daily update of the most played tracks in...</td>\n",
       "      <td>True</td>\n",
       "      <td>113238</td>\n",
       "    </tr>\n",
       "    <tr>\n",
       "      <th>3</th>\n",
       "      <td>0AF4jgCJ48VYmYPMwofk2s</td>\n",
       "      <td>Reels songs you can't get out of your head | T...</td>\n",
       "      <td>15</td>\n",
       "      <td>2020-10-12T00:00:00.000Z</td>\n",
       "      <td>biggest viral hits from instagram reels, updat...</td>\n",
       "      <td>False</td>\n",
       "      <td>31471</td>\n",
       "    </tr>\n",
       "    <tr>\n",
       "      <th>4</th>\n",
       "      <td>37i9dQZEVXbO5MSE9RdfN2</td>\n",
       "      <td>Australia Viral 50</td>\n",
       "      <td>47</td>\n",
       "      <td>2020-10-12T00:00:00.000Z</td>\n",
       "      <td>Your daily update of the most viral tracks in ...</td>\n",
       "      <td>True</td>\n",
       "      <td>68300</td>\n",
       "    </tr>\n",
       "    <tr>\n",
       "      <th>...</th>\n",
       "      <td>...</td>\n",
       "      <td>...</td>\n",
       "      <td>...</td>\n",
       "      <td>...</td>\n",
       "      <td>...</td>\n",
       "      <td>...</td>\n",
       "      <td>...</td>\n",
       "    </tr>\n",
       "    <tr>\n",
       "      <th>95</th>\n",
       "      <td>70zigMLHC6xxayqgePLGyA</td>\n",
       "      <td>TIKTOK SONGS YOU LOVE ⏳⏳</td>\n",
       "      <td>322</td>\n",
       "      <td>2020-09-28T00:00:00.000Z</td>\n",
       "      <td>tiktok songs, tik tok songs, tiktok playlist, ...</td>\n",
       "      <td>False</td>\n",
       "      <td>155249</td>\n",
       "    </tr>\n",
       "    <tr>\n",
       "      <th>96</th>\n",
       "      <td>37i9dQZEVXbM8SIrkERIYl</td>\n",
       "      <td>New Zealand Top 50</td>\n",
       "      <td>5</td>\n",
       "      <td>2020-09-27T00:00:00.000Z</td>\n",
       "      <td>Your daily update of the most played tracks in...</td>\n",
       "      <td>True</td>\n",
       "      <td>202142</td>\n",
       "    </tr>\n",
       "    <tr>\n",
       "      <th>97</th>\n",
       "      <td>6KYJ17PEQ1af7rvyCNnswy</td>\n",
       "      <td>Clásicos</td>\n",
       "      <td>3</td>\n",
       "      <td>2020-09-23T00:00:00.000Z</td>\n",
       "      <td>Clásicos que han inspirado a más de una genera...</td>\n",
       "      <td>False</td>\n",
       "      <td>22814</td>\n",
       "    </tr>\n",
       "    <tr>\n",
       "      <th>98</th>\n",
       "      <td>7y15TCWmOoqxeYyiALg775</td>\n",
       "      <td>Old but gold 💛</td>\n",
       "      <td>837</td>\n",
       "      <td>2020-09-06T00:00:00.000Z</td>\n",
       "      <td>NaN</td>\n",
       "      <td>False</td>\n",
       "      <td>48136</td>\n",
       "    </tr>\n",
       "    <tr>\n",
       "      <th>99</th>\n",
       "      <td>0WvTLRAGBHjTMj70Xrrby3</td>\n",
       "      <td>All Out Legacy</td>\n",
       "      <td>296</td>\n",
       "      <td>2020-09-05T00:00:00.000Z</td>\n",
       "      <td>From the birth of Rock ’n’ Roll to hippies and...</td>\n",
       "      <td>False</td>\n",
       "      <td>29492</td>\n",
       "    </tr>\n",
       "  </tbody>\n",
       "</table>\n",
       "<p>100 rows × 7 columns</p>\n",
       "</div>"
      ],
      "text/plain": [
       "               playlist id                                      playlist name  \\\n",
       "0   37i9dQZEVXbMH2jvi6jvjk                                South Africa Top 50   \n",
       "1   37i9dQZEVXbK4NvPi6Sxit                                     India Viral 50   \n",
       "2   37i9dQZEVXbJiyhoAPEfMK                                 Switzerland Top 50   \n",
       "3   0AF4jgCJ48VYmYPMwofk2s  Reels songs you can't get out of your head | T...   \n",
       "4   37i9dQZEVXbO5MSE9RdfN2                                 Australia Viral 50   \n",
       "..                     ...                                                ...   \n",
       "95  70zigMLHC6xxayqgePLGyA                           TIKTOK SONGS YOU LOVE ⏳⏳   \n",
       "96  37i9dQZEVXbM8SIrkERIYl                                 New Zealand Top 50   \n",
       "97  6KYJ17PEQ1af7rvyCNnswy                                           Clásicos   \n",
       "98  7y15TCWmOoqxeYyiALg775                                     Old but gold 💛   \n",
       "99  0WvTLRAGBHjTMj70Xrrby3                                     All Out Legacy   \n",
       "\n",
       "    positon                  add date  \\\n",
       "0        45  2020-10-12T00:00:00.000Z   \n",
       "1        50  2020-10-12T00:00:00.000Z   \n",
       "2        46  2020-10-12T00:00:00.000Z   \n",
       "3        15  2020-10-12T00:00:00.000Z   \n",
       "4        47  2020-10-12T00:00:00.000Z   \n",
       "..      ...                       ...   \n",
       "95      322  2020-09-28T00:00:00.000Z   \n",
       "96        5  2020-09-27T00:00:00.000Z   \n",
       "97        3  2020-09-23T00:00:00.000Z   \n",
       "98      837  2020-09-06T00:00:00.000Z   \n",
       "99      296  2020-09-05T00:00:00.000Z   \n",
       "\n",
       "                                          description  official  followers  \n",
       "0   Your daily update of the most played tracks in...      True      18626  \n",
       "1   Your daily update of the most viral tracks in ...      True      12819  \n",
       "2   Your daily update of the most played tracks in...      True     113238  \n",
       "3   biggest viral hits from instagram reels, updat...     False      31471  \n",
       "4   Your daily update of the most viral tracks in ...      True      68300  \n",
       "..                                                ...       ...        ...  \n",
       "95  tiktok songs, tik tok songs, tiktok playlist, ...     False     155249  \n",
       "96  Your daily update of the most played tracks in...      True     202142  \n",
       "97  Clásicos que han inspirado a más de una genera...     False      22814  \n",
       "98                                                NaN     False      48136  \n",
       "99  From the birth of Rock ’n’ Roll to hippies and...     False      29492  \n",
       "\n",
       "[100 rows x 7 columns]"
      ]
     },
     "execution_count": 89,
     "metadata": {},
     "output_type": "execute_result"
    }
   ],
   "source": [
    "playlists_dreamsrem = pd.read_csv('data/dreamsremas_spotplayl.csv', index_col=0)\n",
    "playlists_dreamsrem"
   ]
  },
  {
   "cell_type": "markdown",
   "metadata": {},
   "source": [
    "#### Convert pandas series object to datetime"
   ]
  },
  {
   "cell_type": "code",
   "execution_count": 90,
   "metadata": {},
   "outputs": [],
   "source": [
    "#convert datetime series to just year-month-day format\n",
    "playlists_dreamsrem['add date'] = pd.to_datetime(playlists_dreamsrem['add date'])\n",
    "playlists_dreamsrem['add date'] = playlists_dreamsrem['add date'].dt.date"
   ]
  },
  {
   "cell_type": "code",
   "execution_count": 92,
   "metadata": {},
   "outputs": [
    {
     "data": {
      "text/plain": [
       "0     2020-10-12\n",
       "1     2020-10-12\n",
       "2     2020-10-12\n",
       "3     2020-10-12\n",
       "4     2020-10-12\n",
       "         ...    \n",
       "94    2020-09-28\n",
       "96    2020-09-27\n",
       "97    2020-09-23\n",
       "98    2020-09-06\n",
       "99    2020-09-05\n",
       "Name: add date, Length: 100, dtype: object"
      ]
     },
     "execution_count": 92,
     "metadata": {},
     "output_type": "execute_result"
    }
   ],
   "source": [
    "playlists_dreamsrem['add date'].sort_values(ascending=False)"
   ]
  },
  {
   "cell_type": "markdown",
   "metadata": {},
   "source": [
    "#### Visualize Playlist Add Trend"
   ]
  },
  {
   "cell_type": "code",
   "execution_count": 93,
   "metadata": {},
   "outputs": [
    {
     "data": {
      "image/png": "[encoded data removed]",
      "text/plain": [
       "<Figure size 1080x504 with 1 Axes>"
      ]
     },
     "metadata": {
      "needs_background": "light"
     },
     "output_type": "display_data"
    }
   ],
   "source": [
    "#Let's visualize how many times the track was added to playlists\n",
    "plot=sns.countplot(x=playlists_dreamsrem['add date'])\n",
    "plot.set_xticklabels(plot.get_xticklabels(), rotation=45);\n",
    "plt.title(\"Spotify Playlist Adds - Dreams (2004 Remaster)\")\n",
    "plt.ylabel(\"# of Adds\")\n",
    "plot.invert_xaxis()\n",
    "fig = plt.gcf()\n",
    "fig.set_size_inches(15, 7)\n",
    "plt.savefig('images/spotify_playlistadds_dreamsrmstr.png')"
   ]
  },
  {
   "cell_type": "markdown",
   "metadata": {},
   "source": [
    "### Save Dataframe with converted Datetime Series"
   ]
  },
  {
   "cell_type": "code",
   "execution_count": 94,
   "metadata": {},
   "outputs": [],
   "source": [
    "playlists_dreamsrem.to_csv('data/dreamsremas_spotplayl.csv', index='playlist id')"
   ]
  },
  {
   "cell_type": "code",
   "execution_count": 96,
   "metadata": {},
   "outputs": [],
   "source": [
    "#open dreams rmstr df\n",
    "\n",
    "# dreamsrmstr_spotpl = pd.read_csv('data/dreamsremas_spotplayl.csv', index_col=0)\n",
    "# dreamsrmstr_spotpl"
   ]
  },
  {
   "cell_type": "markdown",
   "metadata": {},
   "source": [
    "### Dreams (Greatest Hits Album)"
   ]
  },
  {
   "cell_type": "code",
   "execution_count": 97,
   "metadata": {},
   "outputs": [],
   "source": [
    "dreams_greatesthits = get_track_playlist(api_token, dreamsgreatesthits_cmid, 'spotify', 'current', '2020-09-01', 100)"
   ]
  },
  {
   "cell_type": "code",
   "execution_count": 98,
   "metadata": {},
   "outputs": [
    {
     "data": {
      "text/html": [
       "<div>\n",
       "<style scoped>\n",
       "    .dataframe tbody tr th:only-of-type {\n",
       "        vertical-align: middle;\n",
       "    }\n",
       "\n",
       "    .dataframe tbody tr th {\n",
       "        vertical-align: top;\n",
       "    }\n",
       "\n",
       "    .dataframe thead th {\n",
       "        text-align: right;\n",
       "    }\n",
       "</style>\n",
       "<table border=\"1\" class=\"dataframe\">\n",
       "  <thead>\n",
       "    <tr style=\"text-align: right;\">\n",
       "      <th></th>\n",
       "      <th>playlist id</th>\n",
       "      <th>playlist name</th>\n",
       "      <th>positon</th>\n",
       "      <th>add date</th>\n",
       "      <th>description</th>\n",
       "      <th>official</th>\n",
       "      <th>followers</th>\n",
       "    </tr>\n",
       "  </thead>\n",
       "  <tbody>\n",
       "    <tr>\n",
       "      <th>0</th>\n",
       "      <td>2oBCXRXgCxGWw9G7dyoTrF</td>\n",
       "      <td>Recently on Beats 1</td>\n",
       "      <td>56</td>\n",
       "      <td>2020-10-12T00:00:00.000Z</td>\n",
       "      <td>[Experimental, unofficial] Tracks recently pla...</td>\n",
       "      <td>False</td>\n",
       "      <td>71</td>\n",
       "    </tr>\n",
       "    <tr>\n",
       "      <th>1</th>\n",
       "      <td>6ZpWruVslJK4S2WTZpTYiu</td>\n",
       "      <td>CARTE BLANCHE CLASSICS - credible en plat, van...</td>\n",
       "      <td>1740</td>\n",
       "      <td>2020-10-11T00:00:00.000Z</td>\n",
       "      <td></td>\n",
       "      <td>False</td>\n",
       "      <td>26</td>\n",
       "    </tr>\n",
       "    <tr>\n",
       "      <th>2</th>\n",
       "      <td>1EeVUBBs9gnatbSdlHKIb4</td>\n",
       "      <td>Solitude Is Bliss (A Collection)</td>\n",
       "      <td>1325</td>\n",
       "      <td>2020-10-11T00:00:00.000Z</td>\n",
       "      <td>A story told through music, from the beginning...</td>\n",
       "      <td>False</td>\n",
       "      <td>25</td>\n",
       "    </tr>\n",
       "    <tr>\n",
       "      <th>3</th>\n",
       "      <td>5WOBxamp6KHeDJekr6AYKn</td>\n",
       "      <td>Interior Crocodile Alligator</td>\n",
       "      <td>687</td>\n",
       "      <td>2020-10-10T00:00:00.000Z</td>\n",
       "      <td></td>\n",
       "      <td>False</td>\n",
       "      <td>20</td>\n",
       "    </tr>\n",
       "    <tr>\n",
       "      <th>4</th>\n",
       "      <td>7fiKrIPqG5HyGN0FCLXDPp</td>\n",
       "      <td>Hits Favs</td>\n",
       "      <td>777</td>\n",
       "      <td>2020-10-10T00:00:00.000Z</td>\n",
       "      <td></td>\n",
       "      <td>False</td>\n",
       "      <td>7</td>\n",
       "    </tr>\n",
       "    <tr>\n",
       "      <th>...</th>\n",
       "      <td>...</td>\n",
       "      <td>...</td>\n",
       "      <td>...</td>\n",
       "      <td>...</td>\n",
       "      <td>...</td>\n",
       "      <td>...</td>\n",
       "      <td>...</td>\n",
       "    </tr>\n",
       "    <tr>\n",
       "      <th>95</th>\n",
       "      <td>0WA0gmevwPkbGioseFxsnE</td>\n",
       "      <td>FluffedMojo</td>\n",
       "      <td>798</td>\n",
       "      <td>2020-09-15T00:00:00.000Z</td>\n",
       "      <td>All of it.</td>\n",
       "      <td>False</td>\n",
       "      <td>4</td>\n",
       "    </tr>\n",
       "    <tr>\n",
       "      <th>96</th>\n",
       "      <td>6V1Nfi4cLEYdOrs1R7AzrM</td>\n",
       "      <td>Bruneaux's Favorite Songs of All-Time</td>\n",
       "      <td>997</td>\n",
       "      <td>2020-09-10T00:00:00.000Z</td>\n",
       "      <td></td>\n",
       "      <td>False</td>\n",
       "      <td>51</td>\n",
       "    </tr>\n",
       "    <tr>\n",
       "      <th>97</th>\n",
       "      <td>74avQSetPDwWZptTsTj2eP</td>\n",
       "      <td>Get Motivated Playlist</td>\n",
       "      <td>1845</td>\n",
       "      <td>2020-09-09T00:00:00.000Z</td>\n",
       "      <td>&lt;a href=\"http://www.strayer.edu/?mcv=DG82\"&gt; Cl...</td>\n",
       "      <td>False</td>\n",
       "      <td>353</td>\n",
       "    </tr>\n",
       "    <tr>\n",
       "      <th>98</th>\n",
       "      <td>0Xi527A8PH30qJzvc2XWcX</td>\n",
       "      <td>70's, 80's, 90's Super Hits</td>\n",
       "      <td>474</td>\n",
       "      <td>2020-09-07T00:00:00.000Z</td>\n",
       "      <td></td>\n",
       "      <td>False</td>\n",
       "      <td>123</td>\n",
       "    </tr>\n",
       "    <tr>\n",
       "      <th>99</th>\n",
       "      <td>3BFlGH7ZYSJKukpG6jpC6l</td>\n",
       "      <td>Polar Bear Bar</td>\n",
       "      <td>200</td>\n",
       "      <td>2020-09-05T00:00:00.000Z</td>\n",
       "      <td></td>\n",
       "      <td>False</td>\n",
       "      <td>23</td>\n",
       "    </tr>\n",
       "  </tbody>\n",
       "</table>\n",
       "<p>100 rows × 7 columns</p>\n",
       "</div>"
      ],
      "text/plain": [
       "               playlist id                                      playlist name  \\\n",
       "0   2oBCXRXgCxGWw9G7dyoTrF                                Recently on Beats 1   \n",
       "1   6ZpWruVslJK4S2WTZpTYiu  CARTE BLANCHE CLASSICS - credible en plat, van...   \n",
       "2   1EeVUBBs9gnatbSdlHKIb4                   Solitude Is Bliss (A Collection)   \n",
       "3   5WOBxamp6KHeDJekr6AYKn                       Interior Crocodile Alligator   \n",
       "4   7fiKrIPqG5HyGN0FCLXDPp                                          Hits Favs   \n",
       "..                     ...                                                ...   \n",
       "95  0WA0gmevwPkbGioseFxsnE                                        FluffedMojo   \n",
       "96  6V1Nfi4cLEYdOrs1R7AzrM              Bruneaux's Favorite Songs of All-Time   \n",
       "97  74avQSetPDwWZptTsTj2eP                             Get Motivated Playlist   \n",
       "98  0Xi527A8PH30qJzvc2XWcX                        70's, 80's, 90's Super Hits   \n",
       "99  3BFlGH7ZYSJKukpG6jpC6l                                     Polar Bear Bar   \n",
       "\n",
       "    positon                  add date  \\\n",
       "0        56  2020-10-12T00:00:00.000Z   \n",
       "1      1740  2020-10-11T00:00:00.000Z   \n",
       "2      1325  2020-10-11T00:00:00.000Z   \n",
       "3       687  2020-10-10T00:00:00.000Z   \n",
       "4       777  2020-10-10T00:00:00.000Z   \n",
       "..      ...                       ...   \n",
       "95      798  2020-09-15T00:00:00.000Z   \n",
       "96      997  2020-09-10T00:00:00.000Z   \n",
       "97     1845  2020-09-09T00:00:00.000Z   \n",
       "98      474  2020-09-07T00:00:00.000Z   \n",
       "99      200  2020-09-05T00:00:00.000Z   \n",
       "\n",
       "                                          description  official  followers  \n",
       "0   [Experimental, unofficial] Tracks recently pla...     False         71  \n",
       "1                                                         False         26  \n",
       "2   A story told through music, from the beginning...     False         25  \n",
       "3                                                         False         20  \n",
       "4                                                         False          7  \n",
       "..                                                ...       ...        ...  \n",
       "95                                         All of it.     False          4  \n",
       "96                                                        False         51  \n",
       "97  <a href=\"http://www.strayer.edu/?mcv=DG82\"> Cl...     False        353  \n",
       "98                                                        False        123  \n",
       "99                                                        False         23  \n",
       "\n",
       "[100 rows x 7 columns]"
      ]
     },
     "execution_count": 98,
     "metadata": {},
     "output_type": "execute_result"
    }
   ],
   "source": [
    "#parse metadata for Dreams (Greatest Hits album version) playlist postions from 100 spotify playlists\n",
    "\n",
    "data_bucket = []\n",
    "for playlist in dreams_greatesthits:\n",
    "    playlist_tuple = (playlist['playlist']['playlist_id'],playlist['playlist']['name'], playlist['playlist']['position'], \n",
    "                      playlist['playlist']['added_at'], playlist['playlist']['description'], \n",
    "                      playlist['playlist']['official'],playlist['playlist']['followers'])\n",
    "    data_bucket.append(playlist_tuple)\n",
    "    \n",
    "playlists_dreamsgreatesthits = pd.DataFrame(data_bucket, columns=['playlist id', 'playlist name', 'positon', 'add date', 'description', 'official', 'followers'])\n",
    "\n",
    "playlists_dreamsgreatesthits.to_csv('data/dreamsgreatesthits_spotplayl.csv', index='playlist id')\n",
    "playlists_dreamsgreatesthits"
   ]
  },
  {
   "cell_type": "markdown",
   "metadata": {},
   "source": [
    "#### Load Dataframe\n"
   ]
  },
  {
   "cell_type": "code",
   "execution_count": 101,
   "metadata": {},
   "outputs": [],
   "source": [
    "playlists_dreamsgreatesthits = pd.read_csv('data/dreamsgreatesthits_spotplayl.csv', index_col=0)\n",
    "# playlists_dreamsgreatesthits"
   ]
  },
  {
   "cell_type": "markdown",
   "metadata": {},
   "source": [
    "#### Convert pandas series object to datetime"
   ]
  },
  {
   "cell_type": "code",
   "execution_count": 102,
   "metadata": {},
   "outputs": [],
   "source": [
    "#convert fatetime series to just year-month-day format\n",
    "playlists_dreamsgreatesthits['add date'] = pd.to_datetime(playlists_dreamsgreatesthits['add date'])\n",
    "playlists_dreamsgreatesthits['add date'] = playlists_dreamsgreatesthits['add date'].dt.date\n",
    "# playlists_dreamsgreatesthits['add date']"
   ]
  },
  {
   "cell_type": "markdown",
   "metadata": {},
   "source": [
    "#### Visualize Playlist Add Trend"
   ]
  },
  {
   "cell_type": "code",
   "execution_count": 103,
   "metadata": {},
   "outputs": [
    {
     "data": {
      "image/png": "[encoded data removed]",
      "text/plain": [
       "<Figure size 1080x504 with 1 Axes>"
      ]
     },
     "metadata": {
      "needs_background": "light"
     },
     "output_type": "display_data"
    }
   ],
   "source": [
    "#Let's visualize how many times the track was added to playlists\n",
    "plot=sns.countplot(x=playlists_dreamsgreatesthits['add date'])\n",
    "plot.set_xticklabels(plot.get_xticklabels(), rotation=45);\n",
    "plt.title(\"Spotify Playlist Adds - Dreams - Greatest Hits version\")\n",
    "plt.ylabel(\"# of Adds\")\n",
    "plot.invert_xaxis()\n",
    "fig = plt.gcf()\n",
    "fig.set_size_inches(15, 7)\n",
    "plt.savefig('images/spotify_playlistadds_dreamsgrreatesthits.png')"
   ]
  },
  {
   "cell_type": "code",
   "execution_count": 104,
   "metadata": {},
   "outputs": [],
   "source": [
    "playlists_dreamsgreatesthits.to_csv('data/dreamsgreatesthits_spotplayl.csv', index='playlist id')"
   ]
  },
  {
   "cell_type": "markdown",
   "metadata": {},
   "source": [
    "### Dreams (Rumours Album)"
   ]
  },
  {
   "cell_type": "code",
   "execution_count": 68,
   "metadata": {},
   "outputs": [],
   "source": [
    "dreams_rumours = get_track_playlist(api_token, dreamsrumours_cmid, 'spotify', 'current', '2020-09-01', 100)"
   ]
  },
  {
   "cell_type": "code",
   "execution_count": 69,
   "metadata": {},
   "outputs": [
    {
     "data": {
      "text/html": [
       "<div>\n",
       "<style scoped>\n",
       "    .dataframe tbody tr th:only-of-type {\n",
       "        vertical-align: middle;\n",
       "    }\n",
       "\n",
       "    .dataframe tbody tr th {\n",
       "        vertical-align: top;\n",
       "    }\n",
       "\n",
       "    .dataframe thead th {\n",
       "        text-align: right;\n",
       "    }\n",
       "</style>\n",
       "<table border=\"1\" class=\"dataframe\">\n",
       "  <thead>\n",
       "    <tr style=\"text-align: right;\">\n",
       "      <th></th>\n",
       "      <th>playlist id</th>\n",
       "      <th>playlist name</th>\n",
       "      <th>positon</th>\n",
       "      <th>add date</th>\n",
       "      <th>description</th>\n",
       "      <th>official</th>\n",
       "      <th>followers</th>\n",
       "    </tr>\n",
       "  </thead>\n",
       "  <tbody>\n",
       "  </tbody>\n",
       "</table>\n",
       "</div>"
      ],
      "text/plain": [
       "Empty DataFrame\n",
       "Columns: [playlist id, playlist name, positon, add date, description, official, followers]\n",
       "Index: []"
      ]
     },
     "execution_count": 69,
     "metadata": {},
     "output_type": "execute_result"
    }
   ],
   "source": [
    "#parse metadata for Dreams (Rumours album version) playlist postions from 100 spotify playlists\n",
    "\n",
    "data_bucket = []\n",
    "for playlist in dreams_rumours:\n",
    "    playlist_tuple = (playlist['playlist']['playlist_id'],playlist['playlist']['name'], playlist['playlist']['position'], \n",
    "                      playlist['playlist']['added_at'], playlist['playlist']['description'], \n",
    "                      playlist['playlist']['official'],playlist['playlist']['followers'])\n",
    "    data_bucket.append(playlist_tuple)\n",
    "    \n",
    "playlists_rumours = pd.DataFrame(data_bucket, columns=['playlist id', 'playlist name', 'positon', 'add date', 'description', 'official', 'followers'])\n",
    "\n",
    "playlists_rumours.to_csv('data/rumours_spotplayl.csv', index='playlist id')\n",
    "playlists_rumours"
   ]
  },
  {
   "cell_type": "markdown",
   "metadata": {},
   "source": [
    "Looks like there's no record of any playlists adding the Rumours version of Dreams, so let's not worry about that."
   ]
  },
  {
   "cell_type": "markdown",
   "metadata": {
    "scrolled": true
   },
   "source": [
    "### Total Daily Playlist Adds"
   ]
  },
  {
   "cell_type": "code",
   "execution_count": 2,
   "metadata": {},
   "outputs": [],
   "source": [
    "playlists_dreamsgreatesthits = pd.read_csv('data/dreamsgreatesthits_spotplayl.csv', index_col=0)\n",
    "dreamsrmstr_spotpl = pd.read_csv('data/dreamsremas_spotplayl.csv', index_col=0)"
   ]
  },
  {
   "cell_type": "markdown",
   "metadata": {},
   "source": [
    "#### Create New DF that combines the daily playlist adds for each tracks"
   ]
  },
  {
   "cell_type": "code",
   "execution_count": 3,
   "metadata": {},
   "outputs": [],
   "source": [
    "#convert the lists to series and get the counts\n",
    "d1 = pd.Series(dreamsrmstr_spotpl['add date'].value_counts())\n",
    "\n",
    "d2 = pd.Series(playlists_dreamsgreatesthits['add date'].value_counts())\n",
    "\n",
    "# #get the counts as a dataframe\n",
    "df=pd.concat([d1,d2],axis=1)\n",
    "df.columns=['Dreams 2004 Remaster','Dreams Greatest Hits']\n",
    "\n",
    "# # # # melt the data frame so it has a \"tidy\" data format\n",
    "df = df.reset_index().melt(id_vars=['index'])\n",
    "df.columns=['date', 'track name', '# of Playlist Adds']\n",
    "\n",
    "# #Fill NaN values with 0\n",
    "df['# of Playlist Adds'] = df['# of Playlist Adds'].fillna(0)\n",
    "\n",
    "# #sort dateframe by date\n",
    "df.sort_values('date', inplace=True)"
   ]
  },
  {
   "cell_type": "markdown",
   "metadata": {},
   "source": [
    "#### Statistical Analysis"
   ]
  },
  {
   "cell_type": "code",
   "execution_count": 4,
   "metadata": {},
   "outputs": [
    {
     "name": "stdout",
     "output_type": "stream",
     "text": [
      "Median Playlist Adds per Day before:  1.0\n",
      "Median Playlist Adds per Day after:  5.0\n"
     ]
    }
   ],
   "source": [
    "#calculate the median # of playlist adds per day before and after original post\n",
    "pre_viral_post = df.loc[df['date'] < '2020-09-25']\n",
    "post_viral_post = df.loc[df['date'] >= '2020-09-25']\n",
    "\n",
    "print(\"Median Playlist Adds per Day before: \", pre_viral_post['# of Playlist Adds'].median())\n",
    "print(\"Median Playlist Adds per Day after: \", post_viral_post['# of Playlist Adds'].median())"
   ]
  },
  {
   "cell_type": "markdown",
   "metadata": {},
   "source": [
    "### Plot daily playlist adds using double bar plot"
   ]
  },
  {
   "cell_type": "code",
   "execution_count": 107,
   "metadata": {},
   "outputs": [
    {
     "data": {
      "image/png": "[encoded data removed]",
      "text/plain": [
       "<Figure size 1080x504 with 1 Axes>"
      ]
     },
     "metadata": {
      "needs_background": "light"
     },
     "output_type": "display_data"
    }
   ],
   "source": [
    "#plot a bar graph and assign track name variable to hue\n",
    "double_plot = sns.barplot(\n",
    "    x='date',\n",
    "    y='# of Playlist Adds',\n",
    "    hue='track name',\n",
    "    data=df,\n",
    "    palette=['blue','red'],\n",
    "    alpha=1,\n",
    "    dodge=True,\n",
    ")\n",
    "\n",
    "for item in double_plot.get_xticklabels():\n",
    "    item.set_rotation(45)\n",
    "    \n",
    "\n",
    "for p in double_plot.patches:\n",
    "    double_plot.annotate(format(p.get_height(), '.0f'), \n",
    "                   (p.get_x() + p.get_width() / 2., p.get_height()), \n",
    "                   ha = 'center', va = 'center', \n",
    "                   xytext = (0, 9), \n",
    "                   textcoords = 'offset points')\n",
    "fig = plt.gcf()\n",
    "fig.set_size_inches(15,7)\n",
    "plt.title(\"Spotify Playlist Adds by Day - Fleetwood Mac's Dreams\")\n",
    "plt.savefig('images/spotify_playlistadds_bothdreams.png')"
   ]
  },
  {
   "cell_type": "markdown",
   "metadata": {},
   "source": [
    "#### Pivot Table"
   ]
  },
  {
   "cell_type": "code",
   "execution_count": 108,
   "metadata": {},
   "outputs": [
    {
     "data": {
      "text/html": [
       "<div>\n",
       "<style scoped>\n",
       "    .dataframe tbody tr th:only-of-type {\n",
       "        vertical-align: middle;\n",
       "    }\n",
       "\n",
       "    .dataframe tbody tr th {\n",
       "        vertical-align: top;\n",
       "    }\n",
       "\n",
       "    .dataframe thead th {\n",
       "        text-align: right;\n",
       "    }\n",
       "</style>\n",
       "<table border=\"1\" class=\"dataframe\">\n",
       "  <thead>\n",
       "    <tr style=\"text-align: right;\">\n",
       "      <th></th>\n",
       "      <th>track name</th>\n",
       "      <th>Median PL Adds Before TikTok</th>\n",
       "      <th>Median PL Adds After TikTok</th>\n",
       "    </tr>\n",
       "  </thead>\n",
       "  <tbody>\n",
       "    <tr>\n",
       "      <th>0</th>\n",
       "      <td>Dreams 2004 Remaster</td>\n",
       "      <td>0.0</td>\n",
       "      <td>5.0</td>\n",
       "    </tr>\n",
       "    <tr>\n",
       "      <th>1</th>\n",
       "      <td>Dreams Greatest Hits</td>\n",
       "      <td>1.5</td>\n",
       "      <td>4.5</td>\n",
       "    </tr>\n",
       "  </tbody>\n",
       "</table>\n",
       "</div>"
      ],
      "text/plain": [
       "             track name  Median PL Adds Before TikTok  \\\n",
       "0  Dreams 2004 Remaster                           0.0   \n",
       "1  Dreams Greatest Hits                           1.5   \n",
       "\n",
       "   Median PL Adds After TikTok  \n",
       "0                          5.0  \n",
       "1                          4.5  "
      ]
     },
     "execution_count": 108,
     "metadata": {},
     "output_type": "execute_result"
    }
   ],
   "source": [
    "before_tiktok = pd.pivot_table(df.loc[df['date'] < '2020-09-25'], index='track name', \n",
    "                values='# of Playlist Adds', aggfunc='median' ).reset_index()\n",
    "before_tiktok.columns=['track name', 'Median PL Adds Before TikTok']\n",
    "\n",
    "after_tiktok = pd.pivot_table(df.loc[df['date'] >= '2020-09-25'], index='track name', \n",
    "                              values='# of Playlist Adds', aggfunc='median' ).reset_index()\n",
    "after_tiktok.columns=['track name', 'Median PL Adds After TikTok']\n",
    "\n",
    "pivot_table = before_tiktok.merge(after_tiktok, how='outer', on='track name')\n",
    "\n",
    "pivot_table.rename(mapper={'track name':'Track Name', 'Median PL Adds Before TikTok_x': 'Median PL Adds Before TikTok',\n",
    "                          'Median PL Adds After TikTok_y': 'Median PL Adds After TikTok'}, inplace=True)\n",
    "pivot_table"
   ]
  },
  {
   "cell_type": "markdown",
   "metadata": {},
   "source": [
    "###  Total Daily Playlist Reach"
   ]
  },
  {
   "cell_type": "code",
   "execution_count": 28,
   "metadata": {},
   "outputs": [],
   "source": [
    "playlists_dreamsgreatesthits = pd.read_csv('data/dreamsgreatesthits_spotplayl.csv', index_col=0)\n",
    "dreamsrmstr_spotpl = pd.read_csv('data/dreamsremas_spotplayl.csv', index_col=0)"
   ]
  },
  {
   "cell_type": "markdown",
   "metadata": {},
   "source": [
    "#### Create New DF that combines the daily playlist reach for each tracks"
   ]
  },
  {
   "cell_type": "code",
   "execution_count": 119,
   "metadata": {},
   "outputs": [],
   "source": [
    "#convert the lists to series and get the counts\n",
    "d1 = dreamsrmstr_spotpl.groupby('add date')['followers'].sum()\n",
    "\n",
    "d2 = playlists_dreamsgreatesthits.groupby('add date')['followers'].sum()\n",
    "\n",
    "# #get the counts as a dataframe\n",
    "df=pd.concat([d1,d2],axis=1)\n",
    "df.columns=['Dreams 2004 Remaster','Dreams Greatest Hits']\n",
    "\n",
    "# # # # melt the data frame so it has a \"tidy\" data format\n",
    "df = df.reset_index().melt(id_vars='index')\n",
    "df.columns=['date', 'track name', 'total reach']\n",
    "\n",
    "# #Fill NaN values with 0\n",
    "df['total reach'] = df['total reach'].fillna(0)\n",
    "\n",
    "# #sort dateframe by date\n",
    "df.sort_values('date', inplace=True)"
   ]
  },
  {
   "cell_type": "markdown",
   "metadata": {},
   "source": [
    "#### Plot daily playlist reach using double bar plot"
   ]
  },
  {
   "cell_type": "code",
   "execution_count": 111,
   "metadata": {},
   "outputs": [
    {
     "data": {
      "text/plain": [
       "Text(0.5, 1.0, \"Total Followers (Daily Reach) - Fleetwood Mac's Dreams\")"
      ]
     },
     "execution_count": 111,
     "metadata": {},
     "output_type": "execute_result"
    },
    {
     "data": {
      "image/png": "[encoded data removed]",
      "text/plain": [
       "<Figure size 1080x504 with 1 Axes>"
      ]
     },
     "metadata": {
      "needs_background": "light"
     },
     "output_type": "display_data"
    }
   ],
   "source": [
    "#plot a bar graph and assign track name variable to hue\n",
    "double_plot = sns.barplot(\n",
    "    x='date',\n",
    "    y='total reach',\n",
    "    hue='track name',\n",
    "    data=df,\n",
    "    palette=['blue','red'],\n",
    "    alpha=1,\n",
    "    dodge=True,\n",
    ")\n",
    "\n",
    "for item in double_plot.get_xticklabels():\n",
    "    item.set_rotation(45)\n",
    "    \n",
    "\n",
    "for p in double_plot.patches:\n",
    "    double_plot.annotate(format(p.get_height(), '.0f'), \n",
    "                   (p.get_x() + p.get_width() / 2., p.get_height()), \n",
    "                   ha = 'center', va = 'center', \n",
    "                   xytext = (0, 9), \n",
    "                   textcoords = 'offset points')\n",
    "fig = plt.gcf()\n",
    "fig.set_size_inches(15,7)\n",
    "plt.title(\"Total Followers (Daily Reach) - Fleetwood Mac's Dreams\")\n",
    "# plt.savefig('images/spotify_playlistadds_bothdreams.png')"
   ]
  },
  {
   "cell_type": "markdown",
   "metadata": {},
   "source": [
    "Clearly, the remastered track had a significantly larger reach than the greatest hits version."
   ]
  },
  {
   "cell_type": "markdown",
   "metadata": {},
   "source": [
    "#### Plot Natural Log of Daily Total Reach"
   ]
  },
  {
   "cell_type": "code",
   "execution_count": 112,
   "metadata": {},
   "outputs": [],
   "source": [
    "#replace 0s with NaN values and drop those rows cause you can't take the log of zero\n",
    "df = df.replace(0.0, np.nan)\n",
    "df = df.dropna(how='all', axis=0)\n",
    "df.dropna(inplace=True)"
   ]
  },
  {
   "cell_type": "code",
   "execution_count": 113,
   "metadata": {},
   "outputs": [],
   "source": [
    "dflog = df.copy()"
   ]
  },
  {
   "cell_type": "code",
   "execution_count": 114,
   "metadata": {},
   "outputs": [],
   "source": [
    "dflog['total reach - log(x)'] = dflog['total reach'].apply(lambda x: np.log(x))"
   ]
  },
  {
   "cell_type": "code",
   "execution_count": 115,
   "metadata": {},
   "outputs": [
    {
     "data": {
      "image/png": "[encoded data removed]",
      "text/plain": [
       "<Figure size 1080x576 with 1 Axes>"
      ]
     },
     "metadata": {
      "needs_background": "light"
     },
     "output_type": "display_data"
    }
   ],
   "source": [
    "#plot a bar graph and assign track name variable to hue\n",
    "double_plot = sns.barplot(\n",
    "    x='date',\n",
    "    y='total reach - log(x)',\n",
    "    hue='track name',\n",
    "    data=dflog,\n",
    "    palette=['red', 'blue'],\n",
    "    alpha=1,\n",
    "    dodge=True,\n",
    ")\n",
    "double_plot.set_ylim(0,dflog['total reach - log(x)'].max())\n",
    "\n",
    "for item in double_plot.get_xticklabels():\n",
    "    item.set_rotation(45)\n",
    "\n",
    "    \n",
    "\n",
    "    \n",
    "\n",
    "fig = plt.gcf()\n",
    "fig.set_size_inches(15,8)\n",
    "plt.title(\"Daily Reach - log(x) - Fleetwood Mac's Dreams\")\n",
    "plt.savefig('images/spotify_dailyreachlog_bothdreams.png')"
   ]
  },
  {
   "cell_type": "markdown",
   "metadata": {},
   "source": [
    "#### Pivot Table"
   ]
  },
  {
   "cell_type": "code",
   "execution_count": 139,
   "metadata": {},
   "outputs": [],
   "source": [
    "before_tiktok_reach = pd.pivot_table(df.loc[df['date'] < '2020-09-25'], index='track name', \n",
    "                values='total reach', aggfunc='median' ).reset_index()\n",
    "before_tiktok_reach.columns=['track name', 'Median PL Reach Before TikTok']\n",
    "\n",
    "after_tiktok_reach = pd.pivot_table(df.loc[df['date'] >= '2020-09-25'], index='track name', \n",
    "                              values='total reach', aggfunc='median' ).reset_index()\n",
    "after_tiktok_reach.columns=['track name', 'Median PL Reach After TikTok']\n",
    "\n",
    "pivot_table_reach = before_tiktok_reach.merge(after_tiktok_reach, how='outer', on='track name')\n",
    "\n",
    "pivot_table_reach.rename(mapper={'Track Name':'Track Name', 'Median PL Reach Before TikTok_x': 'Median PL Reach Before TikTok',\n",
    "                          'Median PL Reach After TikTok_y': 'Median PL Reach After TikTok'}, inplace=True)\n",
    "# pivot_table_reach.set_index('track name')"
   ]
  },
  {
   "cell_type": "code",
   "execution_count": 144,
   "metadata": {},
   "outputs": [],
   "source": [
    "pivot_table_reach.set_index('track name', inplace=True)"
   ]
  },
  {
   "cell_type": "code",
   "execution_count": 191,
   "metadata": {
    "scrolled": true
   },
   "outputs": [
    {
     "data": {
      "image/png": "[encoded data removed]",
      "text/plain": [
       "<Figure size 720x360 with 1 Axes>"
      ]
     },
     "metadata": {
      "needs_background": "light"
     },
     "output_type": "display_data"
    }
   ],
   "source": [
    "median_plot = pivot_table_reach.plot(kind='bar', logy=True, ylabel='Total Reach (log)', table=True,\n",
    "                      figsize=(10,5), )\n",
    "plt.xticks([] )\n",
    "plt.title('Median Spotify Reach Before & After')\n",
    "plt.savefig('images/pt_before_after_median_reach.png')\n"
   ]
  },
  {
   "cell_type": "code",
   "execution_count": null,
   "metadata": {},
   "outputs": [],
   "source": []
  },
  {
   "cell_type": "code",
   "execution_count": 192,
   "metadata": {},
   "outputs": [
    {
     "data": {
      "text/html": [
       "<div>\n",
       "<style scoped>\n",
       "    .dataframe tbody tr th:only-of-type {\n",
       "        vertical-align: middle;\n",
       "    }\n",
       "\n",
       "    .dataframe tbody tr th {\n",
       "        vertical-align: top;\n",
       "    }\n",
       "\n",
       "    .dataframe thead th {\n",
       "        text-align: right;\n",
       "    }\n",
       "</style>\n",
       "<table border=\"1\" class=\"dataframe\">\n",
       "  <thead>\n",
       "    <tr style=\"text-align: right;\">\n",
       "      <th></th>\n",
       "      <th>playlist id</th>\n",
       "      <th>playlist name</th>\n",
       "      <th>positon</th>\n",
       "      <th>add date</th>\n",
       "      <th>description</th>\n",
       "      <th>official</th>\n",
       "      <th>followers</th>\n",
       "    </tr>\n",
       "  </thead>\n",
       "  <tbody>\n",
       "    <tr>\n",
       "      <th>0</th>\n",
       "      <td>37i9dQZEVXbMH2jvi6jvjk</td>\n",
       "      <td>South Africa Top 50</td>\n",
       "      <td>45</td>\n",
       "      <td>2020-10-12</td>\n",
       "      <td>Your daily update of the most played tracks in...</td>\n",
       "      <td>True</td>\n",
       "      <td>18626</td>\n",
       "    </tr>\n",
       "    <tr>\n",
       "      <th>1</th>\n",
       "      <td>37i9dQZEVXbK4NvPi6Sxit</td>\n",
       "      <td>India Viral 50</td>\n",
       "      <td>50</td>\n",
       "      <td>2020-10-12</td>\n",
       "      <td>Your daily update of the most viral tracks in ...</td>\n",
       "      <td>True</td>\n",
       "      <td>12819</td>\n",
       "    </tr>\n",
       "    <tr>\n",
       "      <th>2</th>\n",
       "      <td>37i9dQZEVXbJiyhoAPEfMK</td>\n",
       "      <td>Switzerland Top 50</td>\n",
       "      <td>46</td>\n",
       "      <td>2020-10-12</td>\n",
       "      <td>Your daily update of the most played tracks in...</td>\n",
       "      <td>True</td>\n",
       "      <td>113238</td>\n",
       "    </tr>\n",
       "    <tr>\n",
       "      <th>3</th>\n",
       "      <td>0AF4jgCJ48VYmYPMwofk2s</td>\n",
       "      <td>Reels songs you can't get out of your head | T...</td>\n",
       "      <td>15</td>\n",
       "      <td>2020-10-12</td>\n",
       "      <td>biggest viral hits from instagram reels, updat...</td>\n",
       "      <td>False</td>\n",
       "      <td>31471</td>\n",
       "    </tr>\n",
       "    <tr>\n",
       "      <th>4</th>\n",
       "      <td>37i9dQZEVXbO5MSE9RdfN2</td>\n",
       "      <td>Australia Viral 50</td>\n",
       "      <td>47</td>\n",
       "      <td>2020-10-12</td>\n",
       "      <td>Your daily update of the most viral tracks in ...</td>\n",
       "      <td>True</td>\n",
       "      <td>68300</td>\n",
       "    </tr>\n",
       "    <tr>\n",
       "      <th>...</th>\n",
       "      <td>...</td>\n",
       "      <td>...</td>\n",
       "      <td>...</td>\n",
       "      <td>...</td>\n",
       "      <td>...</td>\n",
       "      <td>...</td>\n",
       "      <td>...</td>\n",
       "    </tr>\n",
       "    <tr>\n",
       "      <th>95</th>\n",
       "      <td>70zigMLHC6xxayqgePLGyA</td>\n",
       "      <td>TIKTOK SONGS YOU LOVE ⏳⏳</td>\n",
       "      <td>322</td>\n",
       "      <td>2020-09-28</td>\n",
       "      <td>tiktok songs, tik tok songs, tiktok playlist, ...</td>\n",
       "      <td>False</td>\n",
       "      <td>155249</td>\n",
       "    </tr>\n",
       "    <tr>\n",
       "      <th>96</th>\n",
       "      <td>37i9dQZEVXbM8SIrkERIYl</td>\n",
       "      <td>New Zealand Top 50</td>\n",
       "      <td>5</td>\n",
       "      <td>2020-09-27</td>\n",
       "      <td>Your daily update of the most played tracks in...</td>\n",
       "      <td>True</td>\n",
       "      <td>202142</td>\n",
       "    </tr>\n",
       "    <tr>\n",
       "      <th>97</th>\n",
       "      <td>6KYJ17PEQ1af7rvyCNnswy</td>\n",
       "      <td>Clásicos</td>\n",
       "      <td>3</td>\n",
       "      <td>2020-09-23</td>\n",
       "      <td>Clásicos que han inspirado a más de una genera...</td>\n",
       "      <td>False</td>\n",
       "      <td>22814</td>\n",
       "    </tr>\n",
       "    <tr>\n",
       "      <th>98</th>\n",
       "      <td>7y15TCWmOoqxeYyiALg775</td>\n",
       "      <td>Old but gold 💛</td>\n",
       "      <td>837</td>\n",
       "      <td>2020-09-06</td>\n",
       "      <td>NaN</td>\n",
       "      <td>False</td>\n",
       "      <td>48136</td>\n",
       "    </tr>\n",
       "    <tr>\n",
       "      <th>99</th>\n",
       "      <td>0WvTLRAGBHjTMj70Xrrby3</td>\n",
       "      <td>All Out Legacy</td>\n",
       "      <td>296</td>\n",
       "      <td>2020-09-05</td>\n",
       "      <td>From the birth of Rock ’n’ Roll to hippies and...</td>\n",
       "      <td>False</td>\n",
       "      <td>29492</td>\n",
       "    </tr>\n",
       "  </tbody>\n",
       "</table>\n",
       "<p>100 rows × 7 columns</p>\n",
       "</div>"
      ],
      "text/plain": [
       "               playlist id                                      playlist name  \\\n",
       "0   37i9dQZEVXbMH2jvi6jvjk                                South Africa Top 50   \n",
       "1   37i9dQZEVXbK4NvPi6Sxit                                     India Viral 50   \n",
       "2   37i9dQZEVXbJiyhoAPEfMK                                 Switzerland Top 50   \n",
       "3   0AF4jgCJ48VYmYPMwofk2s  Reels songs you can't get out of your head | T...   \n",
       "4   37i9dQZEVXbO5MSE9RdfN2                                 Australia Viral 50   \n",
       "..                     ...                                                ...   \n",
       "95  70zigMLHC6xxayqgePLGyA                           TIKTOK SONGS YOU LOVE ⏳⏳   \n",
       "96  37i9dQZEVXbM8SIrkERIYl                                 New Zealand Top 50   \n",
       "97  6KYJ17PEQ1af7rvyCNnswy                                           Clásicos   \n",
       "98  7y15TCWmOoqxeYyiALg775                                     Old but gold 💛   \n",
       "99  0WvTLRAGBHjTMj70Xrrby3                                     All Out Legacy   \n",
       "\n",
       "    positon    add date                                        description  \\\n",
       "0        45  2020-10-12  Your daily update of the most played tracks in...   \n",
       "1        50  2020-10-12  Your daily update of the most viral tracks in ...   \n",
       "2        46  2020-10-12  Your daily update of the most played tracks in...   \n",
       "3        15  2020-10-12  biggest viral hits from instagram reels, updat...   \n",
       "4        47  2020-10-12  Your daily update of the most viral tracks in ...   \n",
       "..      ...         ...                                                ...   \n",
       "95      322  2020-09-28  tiktok songs, tik tok songs, tiktok playlist, ...   \n",
       "96        5  2020-09-27  Your daily update of the most played tracks in...   \n",
       "97        3  2020-09-23  Clásicos que han inspirado a más de una genera...   \n",
       "98      837  2020-09-06                                                NaN   \n",
       "99      296  2020-09-05  From the birth of Rock ’n’ Roll to hippies and...   \n",
       "\n",
       "    official  followers  \n",
       "0       True      18626  \n",
       "1       True      12819  \n",
       "2       True     113238  \n",
       "3      False      31471  \n",
       "4       True      68300  \n",
       "..       ...        ...  \n",
       "95     False     155249  \n",
       "96      True     202142  \n",
       "97     False      22814  \n",
       "98     False      48136  \n",
       "99     False      29492  \n",
       "\n",
       "[100 rows x 7 columns]"
      ]
     },
     "execution_count": 192,
     "metadata": {},
     "output_type": "execute_result"
    }
   ],
   "source": [
    "dreamsrmstr_spotpl = pd.read_csv('data/dreamsremas_spotplayl.csv', index_col=0)\n",
    "dreamsrmstr_spotpl"
   ]
  },
  {
   "cell_type": "code",
   "execution_count": 216,
   "metadata": {},
   "outputs": [
    {
     "data": {
      "text/html": [
       "<div>\n",
       "<style scoped>\n",
       "    .dataframe tbody tr th:only-of-type {\n",
       "        vertical-align: middle;\n",
       "    }\n",
       "\n",
       "    .dataframe tbody tr th {\n",
       "        vertical-align: top;\n",
       "    }\n",
       "\n",
       "    .dataframe thead th {\n",
       "        text-align: right;\n",
       "    }\n",
       "</style>\n",
       "<table border=\"1\" class=\"dataframe\">\n",
       "  <thead>\n",
       "    <tr style=\"text-align: right;\">\n",
       "      <th></th>\n",
       "      <th>official</th>\n",
       "      <th>followers</th>\n",
       "    </tr>\n",
       "  </thead>\n",
       "  <tbody>\n",
       "    <tr>\n",
       "      <th>0</th>\n",
       "      <td>False</td>\n",
       "      <td>4511928</td>\n",
       "    </tr>\n",
       "    <tr>\n",
       "      <th>1</th>\n",
       "      <td>True</td>\n",
       "      <td>30978536</td>\n",
       "    </tr>\n",
       "  </tbody>\n",
       "</table>\n",
       "</div>"
      ],
      "text/plain": [
       "   official  followers\n",
       "0     False    4511928\n",
       "1      True   30978536"
      ]
     },
     "execution_count": 216,
     "metadata": {},
     "output_type": "execute_result"
    }
   ],
   "source": [
    "pivottable_offical = pd.pivot_table((dreamsrmstr_spotpl.loc[dreamsrmstr_spotpl['add date'] >= '2020-09-27']), index='official', \n",
    "                values='followers', aggfunc='sum' ).reset_index()\n",
    "pivottable_offical"
   ]
  },
  {
   "cell_type": "code",
   "execution_count": 251,
   "metadata": {},
   "outputs": [
    {
     "data": {
      "text/plain": [
       "Text(0.5, 1.0, 'Total Reach After TikTok Post')"
      ]
     },
     "execution_count": 251,
     "metadata": {},
     "output_type": "execute_result"
    },
    {
     "data": {
      "image/png": "[encoded data removed]",
      "text/plain": [
       "<Figure size 720x576 with 1 Axes>"
      ]
     },
     "metadata": {
      "needs_background": "light"
     },
     "output_type": "display_data"
    }
   ],
   "source": [
    "myplot = pivottable_offical.plot(kind='bar', logy=True, figsize=(10,8), table=True, fontsize=10)\n",
    "# myplot.table(colLabels=['Unofficial PLaylists', 'Official Playlists'])\n",
    "\n",
    "plt.xticks(ticks=[0,1], labels=['Unoffical Playlists', 'Official Playlists'], rotation='horizontal', )\n",
    "plt.ylabel('Total Reach (log)')\n",
    "plt.title('Total Reach After TikTok Post')\n"
   ]
  },
  {
   "cell_type": "code",
   "execution_count": null,
   "metadata": {},
   "outputs": [],
   "source": []
  },
  {
   "cell_type": "code",
   "execution_count": 268,
   "metadata": {},
   "outputs": [
    {
     "data": {
      "image/png": "[encoded data removed]",
      "text/plain": [
       "<Figure size 1080x576 with 1 Axes>"
      ]
     },
     "metadata": {
      "needs_background": "light"
     },
     "output_type": "display_data"
    }
   ],
   "source": [
    "counter = 0\n",
    "running_total = []\n",
    "for item in date_sorted_dreams['followers']:\n",
    "    counter += item\n",
    "    running_total.append(counter)\n",
    "    \n",
    "date_sorted_dreams['running total'] = running_total\n",
    "\n",
    "date_sorted_dreams.plot(kind='line', x='add date', y='running total', rot=45, figsize=(15,8))\n",
    "plt.yscale('log')\n",
    "\n",
    "\n",
    "\n",
    "    "
   ]
  },
  {
   "cell_type": "code",
   "execution_count": null,
   "metadata": {},
   "outputs": [],
   "source": []
  }
 ],
 "metadata": {
  "kernelspec": {
   "display_name": "Python 3",
   "language": "python",
   "name": "python3"
  },
  "language_info": {
   "codemirror_mode": {
    "name": "ipython",
    "version": 3
   },
   "file_extension": ".py",
   "mimetype": "text/x-python",
   "name": "python",
   "nbconvert_exporter": "python",
   "pygments_lexer": "ipython3",
   "version": "3.8.5"
  },
  "toc": {
   "base_numbering": 1,
   "nav_menu": {},
   "number_sections": true,
   "sideBar": true,
   "skip_h1_title": false,
   "title_cell": "Table of Contents",
   "title_sidebar": "Contents",
   "toc_cell": false,
   "toc_position": {
    "height": "calc(100% - 180px)",
    "left": "10px",
    "top": "150px",
    "width": "362px"
   },
   "toc_section_display": true,
   "toc_window_display": true
  }
 },
 "nbformat": 4,
 "nbformat_minor": 4
}
